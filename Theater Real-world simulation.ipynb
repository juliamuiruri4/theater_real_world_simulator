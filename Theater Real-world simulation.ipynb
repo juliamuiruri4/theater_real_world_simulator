{
 "cells": [
  {
   "cell_type": "code",
   "execution_count": 22,
   "metadata": {},
   "outputs": [],
   "source": [
    "# Goal is to reduce the average wait time to 10 minutes or less\n",
    "\n",
    "# STEPS\n",
    "# arrive at the theater\n",
    "# get in line to buy a ticket\n",
    "# buy a ticket\n",
    "# wait in line to have their ticket checked\n",
    "# have their tickets checked\n",
    "# decide whether or not to get in line for concessions\n",
    "# buy concessions or go directly to seat\n",
    "\n",
    "import simpy\n",
    "import random\n",
    "import statistics\n"
   ]
  },
  {
   "cell_type": "code",
   "execution_count": 43,
   "metadata": {},
   "outputs": [],
   "source": [
    "wait_times = []# create an empty list to hold the wait times we are intereseted in\n",
    "\n",
    "# create the environment class, the theater as a whole = self\n",
    "class Theater(object): \n",
    "    def __init__(self,env, num_cashiers, num_servers, num_ushers): # Create the constructor and pass in the simpy environment\n",
    "        self.env = env # set it as an environemnt\n",
    "        # set the paramenters\n",
    "        self.cashier = simpy.Resource(env, num_cashiers) # simpy resource that will contain the environment and number of cashiers\n",
    "        self.server = simpy.Resource(env, num_servers)\n",
    "        self.usher = simpy.Resource(env, num_ushers)\n",
    "        \n",
    "   # add another method in the class\n",
    "    def purchase_ticket(self, moviegoer): #request a cashier\n",
    "        # estimate using previous data\n",
    "        yield self.env.timeout(random.randint(1,3))\n",
    "        \n",
    "    def check_ticket(self,moviegoer): #request an usher\n",
    "        yield self.env.timeout(3/60)\n",
    "        \n",
    "    def sell_food(self, moviegoer): #request a server\n",
    "        yield self.env.timeout(random.randint(1,5))\n",
    "        \n",
    "        "
   ]
  },
  {
   "cell_type": "code",
   "execution_count": 44,
   "metadata": {},
   "outputs": [],
   "source": [
    "# moving through the environment\n",
    "# many moviegoers can use the same cashier but a cashier can only help one moviegoer at a time\n",
    "def go_to_movies (env, moviegoer, theater): # env - control the moviegoer, moviegoer - each person as they move through the environment, theater - gives you access to processes you defined in the overall class\n",
    "    arrival_time = env.now # moviegoer arrives at the theater\n",
    "    \n",
    "    # the with statement automatically releases the moviegoer once the process is complete and the cashier is not available to take on a new customer\n",
    "    with theater.cashier.request() as request: #request to use the cashier\n",
    "        yield request # moviegoer waits for the cashier to be available \n",
    "        yield env.process(theater.purchase_ticket(moviegoer)) # moviegoer uses available cashier to complete the process (purchasing a ticket)\n",
    "        \n",
    "    with theater.usher.request() as request:\n",
    "        yield request\n",
    "        yield env.process(theater.check_ticket(moviegoer))\n",
    "            \n",
    "            # Use boolean values to randomly decide whether a moviegoer will buy food or not\n",
    "    if random.choice([True, False]): #True - moviegoe will request a server and order\n",
    "        with theater.server.request() as request:\n",
    "            yield request\n",
    "            yield env.process(theater.sell_food(moviegoer))\n",
    "    # the moviegoer heads to the theater\n",
    "    wait_times.append (env.now - arrival_time)"
   ]
  },
  {
   "cell_type": "code",
   "execution_count": 45,
   "metadata": {},
   "outputs": [],
   "source": [
    "#create an instance of the the theater\n",
    "def run_theater(env, num_cashiers, num_servers, num_ushers):\n",
    "    theater = Theater(env, num_cashiers, num_servers, num_ushers)\n",
    "    \n",
    "    for moviegoer in range(3):\n",
    "        env.process(go_to_movies(env, moviegoer, theater))\n",
    "\n",
    "    while True:\n",
    "        yield env.timeout(0.20)\n",
    "        moviegoer += 1\n",
    "        env.process(go_to_movies(env, moviegoer, theater))\n",
    "        "
   ]
  },
  {
   "cell_type": "code",
   "execution_count": 50,
   "metadata": {},
   "outputs": [],
   "source": [
    "def get_average_wait_time(wait_times):\n",
    "    average_wait = statistics.mean(wait_times)\n",
    "    minutes, frac_minutes = divmod(average_wait, 1)\n",
    "    seconds = frac_minutes * 60\n",
    "    return round(minutes), round(seconds)"
   ]
  },
  {
   "cell_type": "code",
   "execution_count": 51,
   "metadata": {},
   "outputs": [],
   "source": [
    "def get_user_input():\n",
    "    num_cashiers = input(\"Input # of cashiers working: \")\n",
    "    num_servers = input(\"Input # of servers working: \")\n",
    "    num_ushers = input(\"Input # of ushers working: \")\n",
    "    \n",
    "    params = [num_cashiers, num_servers, num_ushers]\n",
    "    if all(str(i).isdigit() for i in params):\n",
    "        params = [int(x) for x in params]\n",
    "    else:\n",
    "        print(\"Could not parse input. The simulation will use default values: \",\n",
    "             \"\\n1 cashier, 1 server, 1 usher.\",)\n",
    "        params = [1,1,1]\n",
    "    return params"
   ]
  },
  {
   "cell_type": "code",
   "execution_count": 54,
   "metadata": {},
   "outputs": [],
   "source": [
    "def main():\n",
    "    random.seed(42)\n",
    "    num_cashiers, num_servers, num_ushers = get_user_input()\n",
    "  \n",
    "    \n",
    "    env = simpy.Environment()\n",
    "    env.process(run_theater(env, num_cashiers, num_servers, num_ushers))\n",
    "    env.run(until = 90)\n",
    "    \n",
    "    mins, secs = get_average_wait_time(wait_times)\n",
    "    print(\"Running simulation ...\", f\"\\n The average wait time is {mins} minutes and {secs} seconds.\",)"
   ]
  },
  {
   "cell_type": "code",
   "execution_count": 56,
   "metadata": {},
   "outputs": [
    {
     "name": "stdout",
     "output_type": "stream",
     "text": [
      "Input # of cashiers working: 3\n",
      "Input # of servers working: 4\n",
      "Input # of ushers working: 4\n",
      "Running simulation ... \n",
      " The average wait time is 37 minutes and 59 seconds.\n"
     ]
    }
   ],
   "source": [
    "if __name__ == '__main__':\n",
    "    main()"
   ]
  },
  {
   "cell_type": "markdown",
   "metadata": {},
   "source": []
  },
  {
   "cell_type": "code",
   "execution_count": null,
   "metadata": {},
   "outputs": [],
   "source": []
  }
 ],
 "metadata": {
  "kernelspec": {
   "display_name": "Python 3",
   "language": "python",
   "name": "python3"
  },
  "language_info": {
   "codemirror_mode": {
    "name": "ipython",
    "version": 3
   },
   "file_extension": ".py",
   "mimetype": "text/x-python",
   "name": "python",
   "nbconvert_exporter": "python",
   "pygments_lexer": "ipython3",
   "version": "3.8.5"
  }
 },
 "nbformat": 4,
 "nbformat_minor": 4
}
